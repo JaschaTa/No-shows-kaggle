{
 "cells": [
  {
   "cell_type": "markdown",
   "metadata": {},
   "source": [
    "# Project: No-show appointments\n",
    "\n",
    "## Table of Contents\n",
    "<ul>\n",
    "<li><a href=\"#intro\">1. Introduction</a></li>\n",
    "<li><a href=\"#wrangling\">2. Data Wrangling</a></li>\n",
    "<li><a href=\"#eda\">3. Exploratory Data Analysis</a></li>\n",
    "<li><a href=\"#conclusions\">4. Conclusions</a></li>\n",
    "</ul>"
   ]
  },
  {
   "cell_type": "markdown",
   "metadata": {},
   "source": [
    "<a id='intro'></a>\n",
    "## 1. Introduction\n",
    "The following project focuses on medical appointments in Brazilian hospitals and analyzes factors affecting a no-show to the appointment. Data analyses will be conducted using the Python libraries __Numpy__ and __Pandas__; visualizations using __Matplotlib__ and __Seaborn__.\n",
    "\n",
    "The analysis will focus on following questions:\n",
    "- How do personal attributes (gender, scholarship [Bolsa Família], age) impact no-shows?\n",
    "- How do sicknesses (hipertension, diabetes, alcoholism, disability) impact no-shows?\n",
    "- How do pre-scheduling (time between schedule and appointment) and SMS notifications affect no-shows?"
   ]
  },
  {
   "cell_type": "markdown",
   "metadata": {},
   "source": [
    "### Import libraries and data set"
   ]
  },
  {
   "cell_type": "code",
   "execution_count": 1,
   "metadata": {},
   "outputs": [],
   "source": [
    "import numpy as np\n",
    "import pandas as pd\n",
    "import matplotlib.pyplot as plt\n",
    "from matplotlib.ticker import PercentFormatter\n",
    "%matplotlib inline\n",
    "import seaborn as sns\n",
    "sns.set_style('darkgrid')\n",
    "\n",
    "df = pd.read_csv('noshowappointments-kagglev2-may-2016.csv')"
   ]
  },
  {
   "cell_type": "markdown",
   "metadata": {},
   "source": [
    "<a id='wrangling'></a>\n",
    "## 2. Data Wrangling\n",
    "\n",
    "\n",
    "### 2.1. General Properties"
   ]
  },
  {
   "cell_type": "markdown",
   "metadata": {},
   "source": [
    "Following an overview on the data set:"
   ]
  },
  {
   "cell_type": "code",
   "execution_count": 2,
   "metadata": {},
   "outputs": [
    {
     "data": {
      "text/html": [
       "<div>\n",
       "<style scoped>\n",
       "    .dataframe tbody tr th:only-of-type {\n",
       "        vertical-align: middle;\n",
       "    }\n",
       "\n",
       "    .dataframe tbody tr th {\n",
       "        vertical-align: top;\n",
       "    }\n",
       "\n",
       "    .dataframe thead th {\n",
       "        text-align: right;\n",
       "    }\n",
       "</style>\n",
       "<table border=\"1\" class=\"dataframe\">\n",
       "  <thead>\n",
       "    <tr style=\"text-align: right;\">\n",
       "      <th></th>\n",
       "      <th>PatientId</th>\n",
       "      <th>AppointmentID</th>\n",
       "      <th>Gender</th>\n",
       "      <th>ScheduledDay</th>\n",
       "      <th>AppointmentDay</th>\n",
       "      <th>Age</th>\n",
       "      <th>Neighbourhood</th>\n",
       "      <th>Scholarship</th>\n",
       "      <th>Hipertension</th>\n",
       "      <th>Diabetes</th>\n",
       "      <th>Alcoholism</th>\n",
       "      <th>Handcap</th>\n",
       "      <th>SMS_received</th>\n",
       "      <th>No-show</th>\n",
       "    </tr>\n",
       "  </thead>\n",
       "  <tbody>\n",
       "    <tr>\n",
       "      <th>0</th>\n",
       "      <td>2.987250e+13</td>\n",
       "      <td>5642903</td>\n",
       "      <td>F</td>\n",
       "      <td>2016-04-29T18:38:08Z</td>\n",
       "      <td>2016-04-29T00:00:00Z</td>\n",
       "      <td>62</td>\n",
       "      <td>JARDIM DA PENHA</td>\n",
       "      <td>0</td>\n",
       "      <td>1</td>\n",
       "      <td>0</td>\n",
       "      <td>0</td>\n",
       "      <td>0</td>\n",
       "      <td>0</td>\n",
       "      <td>No</td>\n",
       "    </tr>\n",
       "    <tr>\n",
       "      <th>1</th>\n",
       "      <td>5.589978e+14</td>\n",
       "      <td>5642503</td>\n",
       "      <td>M</td>\n",
       "      <td>2016-04-29T16:08:27Z</td>\n",
       "      <td>2016-04-29T00:00:00Z</td>\n",
       "      <td>56</td>\n",
       "      <td>JARDIM DA PENHA</td>\n",
       "      <td>0</td>\n",
       "      <td>0</td>\n",
       "      <td>0</td>\n",
       "      <td>0</td>\n",
       "      <td>0</td>\n",
       "      <td>0</td>\n",
       "      <td>No</td>\n",
       "    </tr>\n",
       "    <tr>\n",
       "      <th>2</th>\n",
       "      <td>4.262962e+12</td>\n",
       "      <td>5642549</td>\n",
       "      <td>F</td>\n",
       "      <td>2016-04-29T16:19:04Z</td>\n",
       "      <td>2016-04-29T00:00:00Z</td>\n",
       "      <td>62</td>\n",
       "      <td>MATA DA PRAIA</td>\n",
       "      <td>0</td>\n",
       "      <td>0</td>\n",
       "      <td>0</td>\n",
       "      <td>0</td>\n",
       "      <td>0</td>\n",
       "      <td>0</td>\n",
       "      <td>No</td>\n",
       "    </tr>\n",
       "    <tr>\n",
       "      <th>3</th>\n",
       "      <td>8.679512e+11</td>\n",
       "      <td>5642828</td>\n",
       "      <td>F</td>\n",
       "      <td>2016-04-29T17:29:31Z</td>\n",
       "      <td>2016-04-29T00:00:00Z</td>\n",
       "      <td>8</td>\n",
       "      <td>PONTAL DE CAMBURI</td>\n",
       "      <td>0</td>\n",
       "      <td>0</td>\n",
       "      <td>0</td>\n",
       "      <td>0</td>\n",
       "      <td>0</td>\n",
       "      <td>0</td>\n",
       "      <td>No</td>\n",
       "    </tr>\n",
       "    <tr>\n",
       "      <th>4</th>\n",
       "      <td>8.841186e+12</td>\n",
       "      <td>5642494</td>\n",
       "      <td>F</td>\n",
       "      <td>2016-04-29T16:07:23Z</td>\n",
       "      <td>2016-04-29T00:00:00Z</td>\n",
       "      <td>56</td>\n",
       "      <td>JARDIM DA PENHA</td>\n",
       "      <td>0</td>\n",
       "      <td>1</td>\n",
       "      <td>1</td>\n",
       "      <td>0</td>\n",
       "      <td>0</td>\n",
       "      <td>0</td>\n",
       "      <td>No</td>\n",
       "    </tr>\n",
       "  </tbody>\n",
       "</table>\n",
       "</div>"
      ],
      "text/plain": [
       "      PatientId  AppointmentID Gender          ScheduledDay  \\\n",
       "0  2.987250e+13        5642903      F  2016-04-29T18:38:08Z   \n",
       "1  5.589978e+14        5642503      M  2016-04-29T16:08:27Z   \n",
       "2  4.262962e+12        5642549      F  2016-04-29T16:19:04Z   \n",
       "3  8.679512e+11        5642828      F  2016-04-29T17:29:31Z   \n",
       "4  8.841186e+12        5642494      F  2016-04-29T16:07:23Z   \n",
       "\n",
       "         AppointmentDay  Age      Neighbourhood  Scholarship  Hipertension  \\\n",
       "0  2016-04-29T00:00:00Z   62    JARDIM DA PENHA            0             1   \n",
       "1  2016-04-29T00:00:00Z   56    JARDIM DA PENHA            0             0   \n",
       "2  2016-04-29T00:00:00Z   62      MATA DA PRAIA            0             0   \n",
       "3  2016-04-29T00:00:00Z    8  PONTAL DE CAMBURI            0             0   \n",
       "4  2016-04-29T00:00:00Z   56    JARDIM DA PENHA            0             1   \n",
       "\n",
       "   Diabetes  Alcoholism  Handcap  SMS_received No-show  \n",
       "0         0           0        0             0      No  \n",
       "1         0           0        0             0      No  \n",
       "2         0           0        0             0      No  \n",
       "3         0           0        0             0      No  \n",
       "4         1           0        0             0      No  "
      ]
     },
     "execution_count": 2,
     "metadata": {},
     "output_type": "execute_result"
    }
   ],
   "source": [
    "df.head()"
   ]
  },
  {
   "cell_type": "markdown",
   "metadata": {},
   "source": [
    "Check for data types and null values:"
   ]
  },
  {
   "cell_type": "code",
   "execution_count": 3,
   "metadata": {},
   "outputs": [
    {
     "name": "stdout",
     "output_type": "stream",
     "text": [
      "<class 'pandas.core.frame.DataFrame'>\n",
      "RangeIndex: 110527 entries, 0 to 110526\n",
      "Data columns (total 14 columns):\n",
      " #   Column          Non-Null Count   Dtype  \n",
      "---  ------          --------------   -----  \n",
      " 0   PatientId       110527 non-null  float64\n",
      " 1   AppointmentID   110527 non-null  int64  \n",
      " 2   Gender          110527 non-null  object \n",
      " 3   ScheduledDay    110527 non-null  object \n",
      " 4   AppointmentDay  110527 non-null  object \n",
      " 5   Age             110527 non-null  int64  \n",
      " 6   Neighbourhood   110527 non-null  object \n",
      " 7   Scholarship     110527 non-null  int64  \n",
      " 8   Hipertension    110527 non-null  int64  \n",
      " 9   Diabetes        110527 non-null  int64  \n",
      " 10  Alcoholism      110527 non-null  int64  \n",
      " 11  Handcap         110527 non-null  int64  \n",
      " 12  SMS_received    110527 non-null  int64  \n",
      " 13  No-show         110527 non-null  object \n",
      "dtypes: float64(1), int64(8), object(5)\n",
      "memory usage: 11.8+ MB\n"
     ]
    }
   ],
   "source": [
    "df.info()"
   ]
  },
  {
   "cell_type": "markdown",
   "metadata": {},
   "source": [
    "Descriptive statistics:"
   ]
  },
  {
   "cell_type": "code",
   "execution_count": 4,
   "metadata": {},
   "outputs": [
    {
     "data": {
      "text/html": [
       "<div>\n",
       "<style scoped>\n",
       "    .dataframe tbody tr th:only-of-type {\n",
       "        vertical-align: middle;\n",
       "    }\n",
       "\n",
       "    .dataframe tbody tr th {\n",
       "        vertical-align: top;\n",
       "    }\n",
       "\n",
       "    .dataframe thead th {\n",
       "        text-align: right;\n",
       "    }\n",
       "</style>\n",
       "<table border=\"1\" class=\"dataframe\">\n",
       "  <thead>\n",
       "    <tr style=\"text-align: right;\">\n",
       "      <th></th>\n",
       "      <th>PatientId</th>\n",
       "      <th>AppointmentID</th>\n",
       "      <th>Age</th>\n",
       "      <th>Scholarship</th>\n",
       "      <th>Hipertension</th>\n",
       "      <th>Diabetes</th>\n",
       "      <th>Alcoholism</th>\n",
       "      <th>Handcap</th>\n",
       "      <th>SMS_received</th>\n",
       "    </tr>\n",
       "  </thead>\n",
       "  <tbody>\n",
       "    <tr>\n",
       "      <th>count</th>\n",
       "      <td>1.105270e+05</td>\n",
       "      <td>1.105270e+05</td>\n",
       "      <td>110527.000000</td>\n",
       "      <td>110527.000000</td>\n",
       "      <td>110527.000000</td>\n",
       "      <td>110527.000000</td>\n",
       "      <td>110527.000000</td>\n",
       "      <td>110527.000000</td>\n",
       "      <td>110527.000000</td>\n",
       "    </tr>\n",
       "    <tr>\n",
       "      <th>mean</th>\n",
       "      <td>1.474963e+14</td>\n",
       "      <td>5.675305e+06</td>\n",
       "      <td>37.088874</td>\n",
       "      <td>0.098266</td>\n",
       "      <td>0.197246</td>\n",
       "      <td>0.071865</td>\n",
       "      <td>0.030400</td>\n",
       "      <td>0.022248</td>\n",
       "      <td>0.321026</td>\n",
       "    </tr>\n",
       "    <tr>\n",
       "      <th>std</th>\n",
       "      <td>2.560949e+14</td>\n",
       "      <td>7.129575e+04</td>\n",
       "      <td>23.110205</td>\n",
       "      <td>0.297675</td>\n",
       "      <td>0.397921</td>\n",
       "      <td>0.258265</td>\n",
       "      <td>0.171686</td>\n",
       "      <td>0.161543</td>\n",
       "      <td>0.466873</td>\n",
       "    </tr>\n",
       "    <tr>\n",
       "      <th>min</th>\n",
       "      <td>3.921784e+04</td>\n",
       "      <td>5.030230e+06</td>\n",
       "      <td>-1.000000</td>\n",
       "      <td>0.000000</td>\n",
       "      <td>0.000000</td>\n",
       "      <td>0.000000</td>\n",
       "      <td>0.000000</td>\n",
       "      <td>0.000000</td>\n",
       "      <td>0.000000</td>\n",
       "    </tr>\n",
       "    <tr>\n",
       "      <th>25%</th>\n",
       "      <td>4.172614e+12</td>\n",
       "      <td>5.640286e+06</td>\n",
       "      <td>18.000000</td>\n",
       "      <td>0.000000</td>\n",
       "      <td>0.000000</td>\n",
       "      <td>0.000000</td>\n",
       "      <td>0.000000</td>\n",
       "      <td>0.000000</td>\n",
       "      <td>0.000000</td>\n",
       "    </tr>\n",
       "    <tr>\n",
       "      <th>50%</th>\n",
       "      <td>3.173184e+13</td>\n",
       "      <td>5.680573e+06</td>\n",
       "      <td>37.000000</td>\n",
       "      <td>0.000000</td>\n",
       "      <td>0.000000</td>\n",
       "      <td>0.000000</td>\n",
       "      <td>0.000000</td>\n",
       "      <td>0.000000</td>\n",
       "      <td>0.000000</td>\n",
       "    </tr>\n",
       "    <tr>\n",
       "      <th>75%</th>\n",
       "      <td>9.439172e+13</td>\n",
       "      <td>5.725524e+06</td>\n",
       "      <td>55.000000</td>\n",
       "      <td>0.000000</td>\n",
       "      <td>0.000000</td>\n",
       "      <td>0.000000</td>\n",
       "      <td>0.000000</td>\n",
       "      <td>0.000000</td>\n",
       "      <td>1.000000</td>\n",
       "    </tr>\n",
       "    <tr>\n",
       "      <th>max</th>\n",
       "      <td>9.999816e+14</td>\n",
       "      <td>5.790484e+06</td>\n",
       "      <td>115.000000</td>\n",
       "      <td>1.000000</td>\n",
       "      <td>1.000000</td>\n",
       "      <td>1.000000</td>\n",
       "      <td>1.000000</td>\n",
       "      <td>4.000000</td>\n",
       "      <td>1.000000</td>\n",
       "    </tr>\n",
       "  </tbody>\n",
       "</table>\n",
       "</div>"
      ],
      "text/plain": [
       "          PatientId  AppointmentID            Age    Scholarship  \\\n",
       "count  1.105270e+05   1.105270e+05  110527.000000  110527.000000   \n",
       "mean   1.474963e+14   5.675305e+06      37.088874       0.098266   \n",
       "std    2.560949e+14   7.129575e+04      23.110205       0.297675   \n",
       "min    3.921784e+04   5.030230e+06      -1.000000       0.000000   \n",
       "25%    4.172614e+12   5.640286e+06      18.000000       0.000000   \n",
       "50%    3.173184e+13   5.680573e+06      37.000000       0.000000   \n",
       "75%    9.439172e+13   5.725524e+06      55.000000       0.000000   \n",
       "max    9.999816e+14   5.790484e+06     115.000000       1.000000   \n",
       "\n",
       "        Hipertension       Diabetes     Alcoholism        Handcap  \\\n",
       "count  110527.000000  110527.000000  110527.000000  110527.000000   \n",
       "mean        0.197246       0.071865       0.030400       0.022248   \n",
       "std         0.397921       0.258265       0.171686       0.161543   \n",
       "min         0.000000       0.000000       0.000000       0.000000   \n",
       "25%         0.000000       0.000000       0.000000       0.000000   \n",
       "50%         0.000000       0.000000       0.000000       0.000000   \n",
       "75%         0.000000       0.000000       0.000000       0.000000   \n",
       "max         1.000000       1.000000       1.000000       4.000000   \n",
       "\n",
       "        SMS_received  \n",
       "count  110527.000000  \n",
       "mean        0.321026  \n",
       "std         0.466873  \n",
       "min         0.000000  \n",
       "25%         0.000000  \n",
       "50%         0.000000  \n",
       "75%         1.000000  \n",
       "max         1.000000  "
      ]
     },
     "execution_count": 4,
     "metadata": {},
     "output_type": "execute_result"
    }
   ],
   "source": [
    "df.describe()"
   ]
  },
  {
   "cell_type": "markdown",
   "metadata": {},
   "source": [
    "Check for duplicates:"
   ]
  },
  {
   "cell_type": "code",
   "execution_count": 5,
   "metadata": {},
   "outputs": [
    {
     "data": {
      "text/plain": [
       "0"
      ]
     },
     "execution_count": 5,
     "metadata": {},
     "output_type": "execute_result"
    }
   ],
   "source": [
    "len(df[df.duplicated(keep='first')])"
   ]
  },
  {
   "cell_type": "markdown",
   "metadata": {},
   "source": [
    "#### Overview Summary and Next Steps:\n",
    "\n",
    "- We can see that the data sample consists of 110,527 observations with 0 null values and 0 duplicates\n",
    "- To ease data handling, columns will renamed and saved in lower case\n",
    "- ScheduledDay and AppointmentDay will be converted from string to date format; time will be normalized to 0.00\n",
    "- To analyze the days between the schedule and the appointment, we will add an additional column measuring the delta\n",
    "- To calculate descriptive statistics more easily, we will add a column containing a 1 for show and 0 and no-show"
   ]
  },
  {
   "cell_type": "markdown",
   "metadata": {},
   "source": [
    "### 2.2. Data Cleaning"
   ]
  },
  {
   "cell_type": "markdown",
   "metadata": {},
   "source": [
    "Renaming columns:"
   ]
  },
  {
   "cell_type": "code",
   "execution_count": 6,
   "metadata": {},
   "outputs": [],
   "source": [
    "df.rename(columns=lambda x: x.lower(), inplace=True)\n",
    "df.rename(columns={'patientid':'patient_id', 'appointmentid':'appointment_id', 'scheduledday':'scheduled', \\\n",
    "                   'appointmentday':'appointment', 'sms_received':'sms'}, inplace=True)"
   ]
  },
  {
   "cell_type": "markdown",
   "metadata": {},
   "source": [
    "Converting strings to date columns, timeframe of sample"
   ]
  },
  {
   "cell_type": "code",
   "execution_count": 7,
   "metadata": {},
   "outputs": [
    {
     "name": "stdout",
     "output_type": "stream",
     "text": [
      "The sample contains a period of 40 days 00:00:00\n"
     ]
    }
   ],
   "source": [
    "df['scheduled'] = pd.to_datetime(df['scheduled']).dt.normalize()\n",
    "df['appointment'] = pd.to_datetime(df['appointment']).dt.normalize()\n",
    "timehor=df['appointment'].max()-df['appointment'].min()\n",
    "\n",
    "print('The sample contains a period of {}'.format(timehor))"
   ]
  },
  {
   "cell_type": "markdown",
   "metadata": {},
   "source": [
    "Adding a column for delta between scheduling and appointment:"
   ]
  },
  {
   "cell_type": "code",
   "execution_count": 8,
   "metadata": {},
   "outputs": [],
   "source": [
    "df['date_delta']=df['appointment']-df['scheduled']"
   ]
  },
  {
   "cell_type": "markdown",
   "metadata": {},
   "source": [
    "Additional column containing 1 for show, 0 for no-show:"
   ]
  },
  {
   "cell_type": "code",
   "execution_count": 9,
   "metadata": {},
   "outputs": [],
   "source": [
    "df['show'] = np.where(df['no-show'] == 'No', 1, 0)"
   ]
  },
  {
   "cell_type": "markdown",
   "metadata": {},
   "source": [
    "<a id='eda'></a>\n",
    "## 3. Exploratory Data Analysis"
   ]
  },
  {
   "cell_type": "markdown",
   "metadata": {},
   "source": [
    "### 3.1. How do personal attributes affect no-shows?"
   ]
  },
  {
   "cell_type": "markdown",
   "metadata": {},
   "source": [
    "Following personal attributes will be analyzed on their impact in no-show:\n",
    "- Gender\n",
    "- Scholarship (Bolsa Família)\n",
    "- Age"
   ]
  },
  {
   "cell_type": "markdown",
   "metadata": {},
   "source": [
    "#### 3.1.1. No-shows in total:"
   ]
  },
  {
   "cell_type": "code",
   "execution_count": 11,
   "metadata": {},
   "outputs": [
    {
     "name": "stdout",
     "output_type": "stream",
     "text": [
      "Total share of no-shows: 20.19%\n"
     ]
    }
   ],
   "source": [
    "p_ns = 1-df['show'].mean()\n",
    "print(\"Total share of no-shows: {:.2%}\".format(p_ns))"
   ]
  },
  {
   "cell_type": "markdown",
   "metadata": {},
   "source": [
    "#### 3.1.2. No-shows by gender:"
   ]
  },
  {
   "cell_type": "code",
   "execution_count": 12,
   "metadata": {},
   "outputs": [
    {
     "name": "stdout",
     "output_type": "stream",
     "text": [
      "% no-show men: 19.97%\n",
      "% no-show women: 20.31%\n"
     ]
    }
   ],
   "source": [
    "p_ns_m = 1-df.query('gender==\"M\"')['show'].mean()\n",
    "p_ns_f = 1-df.query('gender==\"F\"')['show'].mean()\n",
    "\n",
    "print(\"% no-show men: {:.2%}\\n% no-show women: {:.2%}\".format(p_ns_m, p_ns_f))"
   ]
  },
  {
   "cell_type": "markdown",
   "metadata": {},
   "source": [
    "#### 3.1.3. No-shows by scholarship (Bolsa Família):"
   ]
  },
  {
   "cell_type": "code",
   "execution_count": 13,
   "metadata": {},
   "outputs": [
    {
     "name": "stdout",
     "output_type": "stream",
     "text": [
      "% no-show with scholarship: 23.74%\n",
      "% no-show without scholarship: 19.81%\n"
     ]
    }
   ],
   "source": [
    "p_ns_r=1-df.query('scholarship == 0')['show'].mean()\n",
    "p_ns_p=1-df.query('scholarship == 1')['show'].mean()\n",
    "\n",
    "print(\"% no-show with scholarship: {:.2%}\\n% no-show without scholarship: {:.2%}\".format(p_ns_p, p_ns_r))"
   ]
  },
  {
   "cell_type": "markdown",
   "metadata": {},
   "source": [
    "#### 3.1.4. No-shows by age:"
   ]
  },
  {
   "cell_type": "markdown",
   "metadata": {},
   "source": [
    "Create new DataFrame with 10-year age buckets, adjust age groups as % of totals, shows as no-shows:"
   ]
  },
  {
   "cell_type": "code",
   "execution_count": 14,
   "metadata": {},
   "outputs": [
    {
     "data": {
      "text/html": [
       "<div>\n",
       "<style scoped>\n",
       "    .dataframe tbody tr th:only-of-type {\n",
       "        vertical-align: middle;\n",
       "    }\n",
       "\n",
       "    .dataframe tbody tr th {\n",
       "        vertical-align: top;\n",
       "    }\n",
       "\n",
       "    .dataframe thead th {\n",
       "        text-align: right;\n",
       "    }\n",
       "</style>\n",
       "<table border=\"1\" class=\"dataframe\">\n",
       "  <thead>\n",
       "    <tr style=\"text-align: right;\">\n",
       "      <th></th>\n",
       "      <th>mean</th>\n",
       "      <th>count</th>\n",
       "      <th>age_p</th>\n",
       "      <th>noshow</th>\n",
       "    </tr>\n",
       "    <tr>\n",
       "      <th>age</th>\n",
       "      <th></th>\n",
       "      <th></th>\n",
       "      <th></th>\n",
       "      <th></th>\n",
       "    </tr>\n",
       "  </thead>\n",
       "  <tbody>\n",
       "    <tr>\n",
       "      <th>(-0.001, 10.0]</th>\n",
       "      <td>0.797963</td>\n",
       "      <td>18749</td>\n",
       "      <td>0.169633</td>\n",
       "      <td>0.202037</td>\n",
       "    </tr>\n",
       "    <tr>\n",
       "      <th>(10.0, 20.0]</th>\n",
       "      <td>0.747462</td>\n",
       "      <td>13099</td>\n",
       "      <td>0.118514</td>\n",
       "      <td>0.252538</td>\n",
       "    </tr>\n",
       "    <tr>\n",
       "      <th>(20.0, 30.0]</th>\n",
       "      <td>0.753755</td>\n",
       "      <td>13783</td>\n",
       "      <td>0.124703</td>\n",
       "      <td>0.246245</td>\n",
       "    </tr>\n",
       "    <tr>\n",
       "      <th>(30.0, 40.0]</th>\n",
       "      <td>0.785278</td>\n",
       "      <td>15052</td>\n",
       "      <td>0.136184</td>\n",
       "      <td>0.214722</td>\n",
       "    </tr>\n",
       "    <tr>\n",
       "      <th>(40.0, 50.0]</th>\n",
       "      <td>0.800971</td>\n",
       "      <td>14420</td>\n",
       "      <td>0.130466</td>\n",
       "      <td>0.199029</td>\n",
       "    </tr>\n",
       "    <tr>\n",
       "      <th>(50.0, 60.0]</th>\n",
       "      <td>0.826256</td>\n",
       "      <td>15661</td>\n",
       "      <td>0.141694</td>\n",
       "      <td>0.173744</td>\n",
       "    </tr>\n",
       "    <tr>\n",
       "      <th>(60.0, 70.0]</th>\n",
       "      <td>0.852712</td>\n",
       "      <td>11189</td>\n",
       "      <td>0.101233</td>\n",
       "      <td>0.147288</td>\n",
       "    </tr>\n",
       "    <tr>\n",
       "      <th>(70.0, 80.0]</th>\n",
       "      <td>0.844608</td>\n",
       "      <td>5721</td>\n",
       "      <td>0.051761</td>\n",
       "      <td>0.155392</td>\n",
       "    </tr>\n",
       "    <tr>\n",
       "      <th>(80.0, 90.0]</th>\n",
       "      <td>0.840016</td>\n",
       "      <td>2544</td>\n",
       "      <td>0.023017</td>\n",
       "      <td>0.159984</td>\n",
       "    </tr>\n",
       "    <tr>\n",
       "      <th>(90.0, 100.0]</th>\n",
       "      <td>0.803987</td>\n",
       "      <td>301</td>\n",
       "      <td>0.002723</td>\n",
       "      <td>0.196013</td>\n",
       "    </tr>\n",
       "    <tr>\n",
       "      <th>(100.0, 110.0]</th>\n",
       "      <td>1.000000</td>\n",
       "      <td>2</td>\n",
       "      <td>0.000018</td>\n",
       "      <td>0.000000</td>\n",
       "    </tr>\n",
       "    <tr>\n",
       "      <th>(110.0, 120.0]</th>\n",
       "      <td>0.400000</td>\n",
       "      <td>5</td>\n",
       "      <td>0.000045</td>\n",
       "      <td>0.600000</td>\n",
       "    </tr>\n",
       "  </tbody>\n",
       "</table>\n",
       "</div>"
      ],
      "text/plain": [
       "                    mean  count     age_p    noshow\n",
       "age                                                \n",
       "(-0.001, 10.0]  0.797963  18749  0.169633  0.202037\n",
       "(10.0, 20.0]    0.747462  13099  0.118514  0.252538\n",
       "(20.0, 30.0]    0.753755  13783  0.124703  0.246245\n",
       "(30.0, 40.0]    0.785278  15052  0.136184  0.214722\n",
       "(40.0, 50.0]    0.800971  14420  0.130466  0.199029\n",
       "(50.0, 60.0]    0.826256  15661  0.141694  0.173744\n",
       "(60.0, 70.0]    0.852712  11189  0.101233  0.147288\n",
       "(70.0, 80.0]    0.844608   5721  0.051761  0.155392\n",
       "(80.0, 90.0]    0.840016   2544  0.023017  0.159984\n",
       "(90.0, 100.0]   0.803987    301  0.002723  0.196013\n",
       "(100.0, 110.0]  1.000000      2  0.000018  0.000000\n",
       "(110.0, 120.0]  0.400000      5  0.000045  0.600000"
      ]
     },
     "execution_count": 14,
     "metadata": {},
     "output_type": "execute_result"
    }
   ],
   "source": [
    "df_age = df.groupby(pd.cut(df['age'], np.arange(0, df['age'].max()+10, 10), \\\n",
    "                           include_lowest=True))['show'].agg(['mean', 'count'])\n",
    "\n",
    "df_age['age_p']=df_age['count']/len(df)\n",
    "df_age['noshow']=1-df_age['mean']\n",
    "df_age"
   ]
  },
  {
   "cell_type": "markdown",
   "metadata": {},
   "source": [
    "Drop last 2 age bucket, as they contains less than 10 observations:"
   ]
  },
  {
   "cell_type": "code",
   "execution_count": 15,
   "metadata": {},
   "outputs": [],
   "source": [
    "df_age.drop(df_age.query('count < 10').index, inplace=True)"
   ]
  },
  {
   "cell_type": "markdown",
   "metadata": {},
   "source": [
    "Save DataFrame indexes for graph label:"
   ]
  },
  {
   "cell_type": "code",
   "execution_count": 16,
   "metadata": {},
   "outputs": [],
   "source": [
    "age_list=df_age.index.tolist()\n",
    "age_label=[]\n",
    "for x, enm in enumerate(age_list):\n",
    "    age_label.append(str(int(age_list[x].left.round(0))) + \" - \" + str(int(age_list[x].right.round(0))))"
   ]
  },
  {
   "cell_type": "markdown",
   "metadata": {},
   "source": [
    "Function for data labels:"
   ]
  },
  {
   "cell_type": "code",
   "execution_count": 17,
   "metadata": {},
   "outputs": [],
   "source": [
    "# Following function copied from: https://matplotlib.org/3.1.1/gallery/lines_bars_and_markers/barchart.html\n",
    "# and adjusted by myself\n",
    "\n",
    "def autolabel(rects):\n",
    "    for rect in rects:\n",
    "        height = rect.get_height()\n",
    "        plt.annotate('{:.1%}'.format(height.round(3)),\n",
    "                    xy=(rect.get_x() + rect.get_width() / 2, height),\n",
    "                    xytext=(0, 3),  # 3 points vertical offset\n",
    "                    textcoords=\"offset points\",\n",
    "                    ha='center', va='bottom')"
   ]
  },
  {
   "cell_type": "markdown",
   "metadata": {},
   "source": [
    "Plot data:"
   ]
  },
  {
   "cell_type": "code",
   "execution_count": 18,
   "metadata": {},
   "outputs": [
    {
     "data": {
      "image/png": "[encoded data removed]",
      "text/plain": [
       "<Figure size 864x576 with 1 Axes>"
      ]
     },
     "metadata": {},
     "output_type": "display_data"
    }
   ],
   "source": [
    "idx_age=np.arange(len(df_age))\n",
    "plt.subplots(figsize=(12,8))\n",
    "bars_age=plt.bar(idx_age, df_age['age_p'], label='age bucket (as % of total sample)', alpha=.7)\n",
    "line_ns=plt.plot(idx_age, df_age['noshow'], label='no-shows', c='r', alpha=.7)\n",
    "line_ns_help=plt.bar(idx_age, df_age['noshow'],  alpha=0)\n",
    "plt.xticks(idx_age, age_label)\n",
    "plt.ylim(0, 0.4)\n",
    "plt.title('No-show rate by age')\n",
    "plt.xlabel('Age in years')\n",
    "plt.ylabel('% of age bucket share resp. no-shows')\n",
    "plt.legend()\n",
    "plt.gca().yaxis.set_major_formatter(PercentFormatter(1))\n",
    "autolabel(line_ns_help)\n",
    "\n",
    "plt.show()"
   ]
  },
  {
   "cell_type": "markdown",
   "metadata": {},
   "source": [
    "#### 3.1.5. Conclusion of personal attributes:\n",
    "- The average share of no-shows is 20.2%\n",
    "- With a no-show rate of 20.0% and 20.3% for men resp. women, there is only a marginal difference between genders\n",
    "- Social welfare recipients of _Bolsa Família_ have with 23.7% a higher rate of no-shows than non-recipients (19.8%)\n",
    "- Considering age, we can see that starting from teenagers (no-show rate of 25.3%), the no-show rate decreases with age until the age bucket of 60-70 (14.7%)\n",
    "- In the subsequent age buckets the no-show rate increases to up to 19.6% "
   ]
  },
  {
   "cell_type": "markdown",
   "metadata": {},
   "source": [
    "### 3.2. How do sicknesses affect no-shows?\n",
    "#### 3.2.1. Data Analysis of sicknesses"
   ]
  },
  {
   "cell_type": "markdown",
   "metadata": {},
   "source": [
    "The sample includes variables for 4 sicknesses: \n",
    "- Hipertension (0 or 1)\n",
    "- Diabetes (0 or 1)\n",
    "- Alcoholism (0 or 1)\n",
    "- Disability (_Handcap_ in dataset, no further explanation; integer between 0 and 4)"
   ]
  },
  {
   "cell_type": "markdown",
   "metadata": {},
   "source": [
    "To start with we will get an understanding of sicknesses in sample: % of sample with at least one sickness:"
   ]
  },
  {
   "cell_type": "code",
   "execution_count": 19,
   "metadata": {},
   "outputs": [
    {
     "name": "stdout",
     "output_type": "stream",
     "text": [
      "23.90% of the sample have at least 1 sickness\n"
     ]
    }
   ],
   "source": [
    "df_sick=df[{'hipertension', 'diabetes', 'alcoholism', 'handcap'}]\n",
    "p_sick = df_sick.any(axis=1).sum()/len(df_sick)\n",
    "print('{:.2%} of the sample have at least 1 sickness'.format(p_sick))"
   ]
  },
  {
   "cell_type": "markdown",
   "metadata": {},
   "source": [
    "Calculate percentage of sample with respective sickness and plot:"
   ]
  },
  {
   "cell_type": "code",
   "execution_count": 20,
   "metadata": {},
   "outputs": [
    {
     "data": {
      "image/png": "[encoded data removed]",
      "text/plain": [
       "<Figure size 432x288 with 1 Axes>"
      ]
     },
     "metadata": {},
     "output_type": "display_data"
    }
   ],
   "source": [
    "p_hi = df.query('hipertension == 1')['patient_id'].count() / len(df)\n",
    "p_di = df.query('diabetes == 1')['patient_id'].count() / len(df)\n",
    "p_al = df.query('alcoholism == 1')['patient_id'].count() / len(df)\n",
    "p_ha = df.query('handcap >= 1')['patient_id'].count() / len(df)\n",
    "\n",
    "p_sick=(p_hi, p_di, p_al, p_ha)\n",
    "\n",
    "labels_sick=['Hipertension', 'Diabetes', 'Alcoholism', 'Disability']\n",
    "idx_sick=np.arange(len(labels_sick))\n",
    "\n",
    "barh_sick = plt.barh(idx_sick, p_sick)\n",
    "plt.yticks(idx_sick, labels_sick)\n",
    "plt.gca().invert_yaxis()\n",
    "plt.xlabel('% of sickness in sample')\n",
    "plt.title('Sicknesses in Brazil')\n",
    "\n",
    "plt.gca().xaxis.set_major_formatter(PercentFormatter(1));"
   ]
  },
  {
   "cell_type": "markdown",
   "metadata": {},
   "source": [
    "Calculate average no-shows for each sickness and variable (positive or negative):"
   ]
  },
  {
   "cell_type": "code",
   "execution_count": 21,
   "metadata": {},
   "outputs": [],
   "source": [
    "p_ns_hi_y = 1-df.query('hipertension == 1')['show'].mean()\n",
    "p_ns_hi_n = 1-df.query('hipertension == 0')['show'].mean()\n",
    "\n",
    "p_ns_di_y = 1-df.query('diabetes == 1')['show'].mean()\n",
    "p_ns_di_n = 1-df.query('diabetes == 0')['show'].mean()\n",
    "\n",
    "p_ns_al_y = 1-df.query('alcoholism == 1')['show'].mean()\n",
    "p_ns_al_n = 1-df.query('alcoholism == 0')['show'].mean()\n",
    "\n",
    "p_ns_ha_y = 1-df.query('handcap >= 1')['show'].mean()\n",
    "p_ns_ha_n = 1-df.query('handcap == 0')['show'].mean()"
   ]
  },
  {
   "cell_type": "code",
   "execution_count": 22,
   "metadata": {},
   "outputs": [
    {
     "data": {
      "image/png": "[encoded data removed]",
      "text/plain": [
       "<Figure size 432x288 with 1 Axes>"
      ]
     },
     "metadata": {},
     "output_type": "display_data"
    }
   ],
   "source": [
    "sick_pos=[p_ns_hi_y, p_ns_di_y, p_ns_al_y, p_ns_ha_y]\n",
    "sick_neg=[p_ns_hi_n, p_ns_di_n, p_ns_al_n, p_ns_ha_n]\n",
    "sick_p=[p_hi, p_di, p_al, p_ha]\n",
    "\n",
    "width=.35\n",
    "label_loc = idx_sick+width/2\n",
    "\n",
    "bar_pos = plt.bar(idx_sick, sick_pos, width=width, color='r', alpha=.7, label='Pos.')\n",
    "bar_neg = plt.bar(idx_sick+width, sick_neg, width=width, color='g', alpha=.7, label='Neg.')\n",
    "\n",
    "\n",
    "plt.xticks(label_loc, labels_sick, rotation='315')\n",
    "plt.legend()\n",
    "plt.ylim(0, 0.3)\n",
    "plt.title('No-show rate per sickness')\n",
    "plt.ylabel('No-show rate')\n",
    "plt.xlabel('Sickness')\n",
    "plt.gca().yaxis.set_major_formatter(PercentFormatter(1))\n",
    "autolabel(bar_pos)\n",
    "autolabel(bar_neg)"
   ]
  },
  {
   "cell_type": "markdown",
   "metadata": {},
   "source": [
    "Difference of no-shows between positive and negative values in percentage points:"
   ]
  },
  {
   "cell_type": "code",
   "execution_count": 23,
   "metadata": {},
   "outputs": [
    {
     "name": "stdout",
     "output_type": "stream",
     "text": [
      "Hipertension Delta Pos - Neg: -3.6 pp\n",
      "Diabetes Delta Pos - Neg: -2.36 pp\n",
      "Alcoholism Delta Pos - Neg: -0.05 pp\n",
      "Disability Delta Pos - Neg: -2.07 pp\n"
     ]
    }
   ],
   "source": [
    "sick_delt_arr=[]\n",
    "for a, x in enumerate(sick_pos):\n",
    "    sick_delt_arr.append(sick_pos[a] - sick_neg[a])\n",
    "    print(labels_sick[a]+' Delta Pos - Neg: '+str((sick_delt_arr[a]*100).round(2))+' pp')"
   ]
  },
  {
   "cell_type": "markdown",
   "metadata": {},
   "source": [
    "#### 3.2.2. Conclusion of sicknesses:\n",
    "- 23.9% of population have at least 1 sickness\n",
    "- Hipertension is with nearly 20% the most common sickness in the sample; diabetes, alcoholism and disability with 1-digit prevalence\n",
    "- We can see that people with respective sickness have a lower share of no-shows\n",
    "    - E.g. people with hipertension have with 17.3% a lower no-show rate by 3.6 pp."
   ]
  },
  {
   "cell_type": "markdown",
   "metadata": {},
   "source": [
    "### 3.3. How do pre-scheduling (date between schedule and appointment) and SMS reminders affect no-shows? "
   ]
  },
  {
   "cell_type": "markdown",
   "metadata": {},
   "source": [
    "#### 3.3.1. Pre-scheduling"
   ]
  },
  {
   "cell_type": "code",
   "execution_count": 24,
   "metadata": {},
   "outputs": [
    {
     "data": {
      "text/plain": [
       "131"
      ]
     },
     "execution_count": 24,
     "metadata": {},
     "output_type": "execute_result"
    }
   ],
   "source": [
    "df['date_delta'].nunique()"
   ]
  },
  {
   "cell_type": "markdown",
   "metadata": {},
   "source": [
    "As there are 131 unique date deltas, we will group deltas: \n",
    "- Distinct buckets for date deltas <= 30 days\n",
    "- 1 bucket for deltas > 30 days\n",
    "\n",
    "\n",
    "\n",
    "\n"
   ]
  },
  {
   "cell_type": "code",
   "execution_count": 25,
   "metadata": {},
   "outputs": [],
   "source": [
    "df['delta_group'] = np.where(df['date_delta'].dt.days > 30, 31, df['date_delta'].dt.days)"
   ]
  },
  {
   "cell_type": "markdown",
   "metadata": {},
   "source": [
    "Create new DataFrame with grouped date delta as index, number of appointments per bucket (count) and average show-rate (mean)"
   ]
  },
  {
   "cell_type": "code",
   "execution_count": 26,
   "metadata": {},
   "outputs": [],
   "source": [
    "df_delta = df.groupby('delta_group')['show'].agg(['mean', 'count'])"
   ]
  },
  {
   "cell_type": "markdown",
   "metadata": {},
   "source": [
    "Save index (date delta) as integer "
   ]
  },
  {
   "cell_type": "code",
   "execution_count": 27,
   "metadata": {},
   "outputs": [],
   "source": [
    "df_delta['delta'] = df_delta.index\n",
    "df_delta.rename(index= lambda x: int(x), inplace=True)"
   ]
  },
  {
   "cell_type": "markdown",
   "metadata": {},
   "source": [
    "Drop date deltas < 0 days\n",
    "\n",
    "Calculate count as % of total count and average no-show-rate"
   ]
  },
  {
   "cell_type": "code",
   "execution_count": 28,
   "metadata": {},
   "outputs": [
    {
     "data": {
      "text/html": [
       "<div>\n",
       "<style scoped>\n",
       "    .dataframe tbody tr th:only-of-type {\n",
       "        vertical-align: middle;\n",
       "    }\n",
       "\n",
       "    .dataframe tbody tr th {\n",
       "        vertical-align: top;\n",
       "    }\n",
       "\n",
       "    .dataframe thead th {\n",
       "        text-align: right;\n",
       "    }\n",
       "</style>\n",
       "<table border=\"1\" class=\"dataframe\">\n",
       "  <thead>\n",
       "    <tr style=\"text-align: right;\">\n",
       "      <th></th>\n",
       "      <th>mean</th>\n",
       "      <th>count</th>\n",
       "      <th>delta</th>\n",
       "      <th>ns_r</th>\n",
       "      <th>delta_p</th>\n",
       "    </tr>\n",
       "    <tr>\n",
       "      <th>delta_group</th>\n",
       "      <th></th>\n",
       "      <th></th>\n",
       "      <th></th>\n",
       "      <th></th>\n",
       "      <th></th>\n",
       "    </tr>\n",
       "  </thead>\n",
       "  <tbody>\n",
       "    <tr>\n",
       "      <th>0</th>\n",
       "      <td>0.953531</td>\n",
       "      <td>38563</td>\n",
       "      <td>0</td>\n",
       "      <td>0.046469</td>\n",
       "      <td>0.348917</td>\n",
       "    </tr>\n",
       "    <tr>\n",
       "      <th>1</th>\n",
       "      <td>0.786495</td>\n",
       "      <td>5213</td>\n",
       "      <td>1</td>\n",
       "      <td>0.213505</td>\n",
       "      <td>0.047167</td>\n",
       "    </tr>\n",
       "    <tr>\n",
       "      <th>2</th>\n",
       "      <td>0.761784</td>\n",
       "      <td>6725</td>\n",
       "      <td>2</td>\n",
       "      <td>0.238216</td>\n",
       "      <td>0.060848</td>\n",
       "    </tr>\n",
       "    <tr>\n",
       "      <th>3</th>\n",
       "      <td>0.764706</td>\n",
       "      <td>2737</td>\n",
       "      <td>3</td>\n",
       "      <td>0.235294</td>\n",
       "      <td>0.024764</td>\n",
       "    </tr>\n",
       "    <tr>\n",
       "      <th>4</th>\n",
       "      <td>0.767297</td>\n",
       "      <td>5290</td>\n",
       "      <td>4</td>\n",
       "      <td>0.232703</td>\n",
       "      <td>0.047864</td>\n",
       "    </tr>\n",
       "  </tbody>\n",
       "</table>\n",
       "</div>"
      ],
      "text/plain": [
       "                 mean  count  delta      ns_r   delta_p\n",
       "delta_group                                            \n",
       "0            0.953531  38563      0  0.046469  0.348917\n",
       "1            0.786495   5213      1  0.213505  0.047167\n",
       "2            0.761784   6725      2  0.238216  0.060848\n",
       "3            0.764706   2737      3  0.235294  0.024764\n",
       "4            0.767297   5290      4  0.232703  0.047864"
      ]
     },
     "execution_count": 28,
     "metadata": {},
     "output_type": "execute_result"
    }
   ],
   "source": [
    "df_delta.drop(df_delta.query('delta <0').index, inplace=True)\n",
    "df_delta['ns_r']=1-df_delta['mean']\n",
    "df_delta['delta_p']=df_delta['count']/df_delta['count'].sum()\n",
    "df_delta.head()"
   ]
  },
  {
   "cell_type": "markdown",
   "metadata": {},
   "source": [
    "Create labels for chart based on index, rename last bucket from _31_ to _> 30_"
   ]
  },
  {
   "cell_type": "code",
   "execution_count": 29,
   "metadata": {},
   "outputs": [],
   "source": [
    "delta_list=[]\n",
    "for x, a in enumerate(df_delta.index):\n",
    "    delta_list.append(str(x))\n",
    "\n",
    "delta_list[31] = '> 30'"
   ]
  },
  {
   "cell_type": "markdown",
   "metadata": {},
   "source": [
    "Plot data:"
   ]
  },
  {
   "cell_type": "code",
   "execution_count": 30,
   "metadata": {},
   "outputs": [],
   "source": [
    "# above function adjusted to show only every 2nd data label\n",
    "\n",
    "def autolabel_adj(rects):\n",
    "    for rect in rects[::2]:\n",
    "        height = rect.get_height()\n",
    "        plt.annotate('{:.1%}'.format(height.round(3)),\n",
    "                    xy=(rect.get_x() + rect.get_width() / 2, height),\n",
    "                    xytext=(0, 7),  # 3 points vertical offset\n",
    "                    textcoords=\"offset points\",\n",
    "                    ha='center', va='bottom')"
   ]
  },
  {
   "cell_type": "code",
   "execution_count": 31,
   "metadata": {},
   "outputs": [
    {
     "data": {
      "image/png": "[encoded data removed]",
      "text/plain": [
       "<Figure size 864x576 with 1 Axes>"
      ]
     },
     "metadata": {},
     "output_type": "display_data"
    }
   ],
   "source": [
    "plt.subplots(figsize=(12,8))\n",
    "idx_delta=np.arange(len(delta_list))\n",
    "bar_delta=plt.bar(idx_delta, df_delta['delta_p'], label='pre-schedule bucket (as % of total sample)', alpha=.7)\n",
    "line_ns=plt.plot(idx_delta, df_delta['ns_r'], label='no-shows', c='r', alpha=.7)\n",
    "bar_help=plt.bar(idx_delta, df_delta['ns_r'], alpha=0)\n",
    "plt.xticks(idx_delta, delta_list)\n",
    "#plt.ylim(0, 0.5)\n",
    "plt.title('No-show rate by pre-scheduling')\n",
    "plt.xlabel('Delta between schedule and appointment date in days')\n",
    "plt.ylabel('% of pre-scheduling bucket resp. no-shows')\n",
    "plt.legend()\n",
    "autolabel_adj(bar_help)\n",
    "plt.gca().yaxis.set_major_formatter(PercentFormatter(1))\n",
    "plt.show();"
   ]
  },
  {
   "cell_type": "markdown",
   "metadata": {},
   "source": [
    "#### 3.3.2. SMS reminder:"
   ]
  },
  {
   "cell_type": "code",
   "execution_count": 32,
   "metadata": {},
   "outputs": [
    {
     "data": {
      "text/plain": [
       "Timedelta('3 days 00:00:00')"
      ]
     },
     "execution_count": 32,
     "metadata": {},
     "output_type": "execute_result"
    }
   ],
   "source": [
    "df.query('sms == 1')['date_delta'].min()"
   ]
  },
  {
   "cell_type": "markdown",
   "metadata": {},
   "source": [
    "As shown above, around 35% of appointments are scheduled the same day. Further, we can see that the minimun date delta for which an SMS reminder was sent is 3 days. Therefore, we will assume that reminders are only sent for date deltas >= 3 days and exclude date deltas < 3 days from calculating no-show rates"
   ]
  },
  {
   "cell_type": "code",
   "execution_count": 33,
   "metadata": {},
   "outputs": [
    {
     "name": "stdout",
     "output_type": "stream",
     "text": [
      "SMS were sent for 59.12% of appointments scheduled 3 days or more in advance\n",
      " % no-show for appointments with SMS reminder: 27.57% \n",
      " % no-show for appointments without SMS reminder: 32.69% \n",
      " Delta: -5.12 pp.\n"
     ]
    }
   ],
   "source": [
    "p_sms_sent = df.query('date_delta.dt.days >= 3')['sms'].mean()\n",
    "p_sms_y_ns = 1-df.query('(sms == 1) & (date_delta.dt.days >= 3)')['show'].mean()\n",
    "p_sms_n_ns = 1-df.query('(sms == 0) & (date_delta.dt.days >= 3)')['show'].mean()\n",
    "p_sms_delta = (p_sms_y_ns - p_sms_n_ns)*100\n",
    "\n",
    "print('SMS were sent for {:.2%} of appointments scheduled 3 days or more in advance\\n \\\n",
    "% no-show for appointments with SMS reminder: {:.2%} \\n \\\n",
    "% no-show for appointments without SMS reminder: {:.2%} \\n \\\n",
    "Delta: {} pp.'.format(p_sms_sent, p_sms_y_ns, p_sms_n_ns, p_sms_delta.round(2)))"
   ]
  },
  {
   "cell_type": "markdown",
   "metadata": {},
   "source": [
    "#### 3.3.3. SMS reminder and pre-scheduling:"
   ]
  },
  {
   "cell_type": "markdown",
   "metadata": {},
   "source": [
    "In the next step, we will see how the no-show rate of pre-scheduled appointments will vary if we consider SMS reminders.\n",
    "\n",
    "Create DataFrames:"
   ]
  },
  {
   "cell_type": "code",
   "execution_count": 34,
   "metadata": {},
   "outputs": [],
   "source": [
    "df_delta_sms_y = 1-df.query('(sms == 1) & (date_delta.dt.days >=3)').groupby('delta_group')['show'].mean()\n",
    "df_delta_sms_n = 1-df.query('(sms == 0) & (date_delta.dt.days >=3)').groupby('delta_group')['show'].mean()"
   ]
  },
  {
   "cell_type": "code",
   "execution_count": 35,
   "metadata": {},
   "outputs": [
    {
     "data": {
      "image/png": "[encoded data removed]",
      "text/plain": [
       "<Figure size 864x576 with 1 Axes>"
      ]
     },
     "metadata": {},
     "output_type": "display_data"
    }
   ],
   "source": [
    "plt.subplots(figsize=(12,8))\n",
    "\n",
    "line_sms_y=plt.plot(idx_delta[3:], df_delta_sms_y, label='no-shows with SMS', c='g', alpha=1)\n",
    "line_sms_n=plt.plot(idx_delta[3:], df_delta_sms_n, label='no-shows without SMS', c='r', alpha=.7)\n",
    "#line_sms_both=plt.plot(idx_delta[3:], df_delta['ns_r'][3:], label='no-shows combined', alpha=.7)\n",
    "fills=plt.fill_between(idx_delta[3:], df_delta_sms_y, df_delta_sms_n, facecolor='g', hatch=\"/\", \\\n",
    "                       label='reduced no-shows by SMS reminder', alpha=.3)\n",
    "plt.xticks(idx_delta[3:], delta_list[3:])\n",
    "\n",
    "plt.title('No-show rate by pre-scheduling and SMS reminder')\n",
    "plt.xlabel('Delta between schedule and appointment date in days')\n",
    "plt.ylabel('% of no-shows')\n",
    "plt.legend()\n",
    "plt.ylim(0.2, 0.5)\n",
    "plt.gca().yaxis.set_major_formatter(PercentFormatter(1))\n",
    "plt.show();"
   ]
  },
  {
   "cell_type": "code",
   "execution_count": 36,
   "metadata": {},
   "outputs": [
    {
     "name": "stdout",
     "output_type": "stream",
     "text": [
      "Max delta in pre-scheduling buckets: -20.02 pp\n"
     ]
    }
   ],
   "source": [
    "max_delta=((df_delta_sms_y-df_delta_sms_n).min())*100\n",
    "print('Max delta in pre-scheduling buckets: {} pp'.format(max_delta.round(2)))"
   ]
  },
  {
   "cell_type": "markdown",
   "metadata": {},
   "source": [
    "#### 3.3.4. Conclusion of pre-scheduling and SMS reminder:\n",
    "- Around 35% of appointments are scheduled same day, which on the same time has the lowest no-show rate (<5%)\n",
    "- On average, the no-show rate increases the longer the appointment is scheduled in the future\n",
    "- SMS reminder were sent for c.60% of observations that were scheduled 3 days or more in advance\n",
    "- Compared to observations without SMS reminders, the no-show rate of observations with reminders is 5.1 pp lower\n",
    "- Combining SMS reminders and pre-scheduling, we can see that SMS reminders can reduce no-shows by up to 20 pp"
   ]
  },
  {
   "cell_type": "markdown",
   "metadata": {},
   "source": [
    "<a id='conclusions'></a>\n",
    "## 4. Conclusions\n",
    "\n",
    "- The project analyzed 110,527 observations of medical appointments in Brazil\n",
    "- No-shows were analyzed based on 3 categories:\n",
    "    - Personal attributes (gender, scholarship [Bolsa Família], age)\n",
    "    - Sicknesses (hipertension, diabetes, alcoholism, disability)\n",
    "    - Pre-scheduling and SMS notifications\n",
    "\n",
    "\n"
   ]
  },
  {
   "cell_type": "markdown",
   "metadata": {},
   "source": [
    "### 4.1. Personal attributes\n",
    "- It was shown that gender has a marginal impact on no-shows, with women having a higher no-show rate of 0.3 pp compared to men\n",
    "- Social welfare recipients of Bolsa Família have with 23.7% a higher rate of no-shows than non-recipients (19.8%)\n",
    "- Starting from teenagers (10-20 years; 25.3% no-shows), the no-show rate decreases with age until the age of 60-70 years (14.7% no shows), thereafter increasing by age up to 19.6% for the age bucket 90-100 years"
   ]
  },
  {
   "cell_type": "markdown",
   "metadata": {},
   "source": [
    "### 4.2. Sicknesses\n",
    "- While 23.9% of the sample have at least 1 sickness, hipertension is the most common with nearly 20%\n",
    "- All sicknesses have a positive impact on no-shows, meaning that people with any sickness tend to have a lower no-show rate \n",
    "- The difference varies between 0.1 pp (alcoholism) and 3.6 pp (hipertension)"
   ]
  },
  {
   "cell_type": "markdown",
   "metadata": {},
   "source": [
    "### 4.3. Pre-scheduling and SMS notifications\n",
    "- 35% of appointments are scheduled the same day and have comparably a low no-show rate of 4.6%\n",
    "- In general, the no-show rate increases with pre-scheduling, meaning that appointments that are scheduled further in the future, tend to have a higher no-show rate\n",
    "- SMS notifications were sent for nearly 60% of appointments scheduled 3 days or more in the future\n",
    "- Considering these pre-scheduled appointments, ones with SMS notification have a lower no-show rate by more than  5 pp\n",
    "- Combining pre-scheduling and SMS notifications, we can see that reminders can reduce no-shows by up to 20 pp"
   ]
  }
 ],
 "metadata": {
  "kernelspec": {
   "display_name": "Python 3",
   "language": "python",
   "name": "python3"
  },
  "language_info": {
   "codemirror_mode": {
    "name": "ipython",
    "version": 3
   },
   "file_extension": ".py",
   "mimetype": "text/x-python",
   "name": "python",
   "nbconvert_exporter": "python",
   "pygments_lexer": "ipython3",
   "version": "3.8.1"
  }
 },
 "nbformat": 4,
 "nbformat_minor": 2
}
